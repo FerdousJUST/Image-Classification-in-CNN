{
  "nbformat": 4,
  "nbformat_minor": 0,
  "metadata": {
    "colab": {
      "provenance": [],
      "mount_file_id": "1BE2CzoDjuYsy-cJtf-3chLyY8VFNTR74",
      "authorship_tag": "ABX9TyMl0Z51RpP1b2P5VsHuYR+q",
      "include_colab_link": true
    },
    "kernelspec": {
      "name": "python3",
      "display_name": "Python 3"
    },
    "language_info": {
      "name": "python"
    }
  },
  "cells": [
    {
      "cell_type": "markdown",
      "metadata": {
        "id": "view-in-github",
        "colab_type": "text"
      },
      "source": [
        "<a href=\"https://colab.research.google.com/github/FerdousJUST/Image-Classification-in-CNN/blob/main/Four_Image_Classification.ipynb\" target=\"_parent\"><img src=\"https://colab.research.google.com/assets/colab-badge.svg\" alt=\"Open In Colab\"/></a>"
      ]
    },
    {
      "cell_type": "code",
      "execution_count": 1,
      "metadata": {
        "id": "oNxdDzuyY80d"
      },
      "outputs": [],
      "source": [
        "import os\n",
        "import numpy as np\n",
        "import pandas as pd\n",
        "import matplotlib.pyplot as plt\n",
        "import cv2\n",
        "import imageio\n",
        "import pathlib\n",
        "%matplotlib inline\n"
      ]
    },
    {
      "cell_type": "code",
      "source": [
        "import tensorflow as tf\n",
        "tf.test.gpu_device_name()\n"
      ],
      "metadata": {
        "colab": {
          "base_uri": "https://localhost:8080/",
          "height": 35
        },
        "id": "dGvViGLHfP4R",
        "outputId": "53a9f278-fea5-489c-f038-e797d245d710"
      },
      "execution_count": 2,
      "outputs": [
        {
          "output_type": "execute_result",
          "data": {
            "text/plain": [
              "''"
            ],
            "application/vnd.google.colaboratory.intrinsic+json": {
              "type": "string"
            }
          },
          "metadata": {},
          "execution_count": 2
        }
      ]
    },
    {
      "cell_type": "code",
      "source": [
        "from keras.preprocessing.image import ImageDataGenerator\n",
        "rescaled = ImageDataGenerator(1/255)\n",
        "train_fed = rescaled.flow_from_directory('/content/drive/MyDrive/Multiple Fish Classification 2022/Fish Images',target_size=(128,128),batch_size=32,class_mode= 'categorical')\n",
        "test_fed = rescaled.flow_from_directory('/content/drive/MyDrive/Multiple Fish Classification 2022/Test Data',target_size=(128,128),batch_size=32,class_mode= 'categorical')"
      ],
      "metadata": {
        "colab": {
          "base_uri": "https://localhost:8080/"
        },
        "id": "uLs5bv5sfQKY",
        "outputId": "eb0495b9-5ae4-439f-ef25-96ccac89d499"
      },
      "execution_count": 3,
      "outputs": [
        {
          "output_type": "stream",
          "name": "stdout",
          "text": [
            "Found 800 images belonging to 4 classes.\n",
            "Found 400 images belonging to 4 classes.\n"
          ]
        }
      ]
    },
    {
      "cell_type": "code",
      "source": [
        "from tensorflow.keras.layers import Input,Flatten,Dense\n",
        "from tensorflow.keras.models import Model\n",
        "from tensorflow.keras.models import Sequential\n",
        "\n",
        "\n",
        "\n",
        "\n",
        "\n",
        "\n",
        "model = tf.keras.models.Sequential([tf.keras.layers.Conv2D(16,kernel_size=(3,3),activation = 'relu',input_shape = (128,128,3)),\n",
        "                                    tf.keras.layers.MaxPool2D(2,2),\n",
        "                                    \n",
        "                                    tf.keras.layers.Conv2D(32,kernel_size=(3,3),activation = 'relu'),\n",
        "                                    tf.keras.layers.MaxPool2D(2,2),\n",
        "\n",
        "                                    tf.keras.layers.Conv2D(64,kernel_size=(3,3),activation = 'relu'),\n",
        "                                    tf.keras.layers.MaxPool2D(2,2),\n",
        "\n",
        "                                    tf.keras.layers.Conv2D(128,kernel_size=(3,3),activation = 'relu'),\n",
        "                                    tf.keras.layers.MaxPool2D(2,2),\n",
        "\n",
        "                                    tf.keras.layers.Flatten(),\n",
        "\n",
        "                                    tf.keras.layers.Dense(128,activation = 'relu'),\n",
        "                                    tf.keras.layers.Dropout(0.5),\n",
        "                                    tf.keras.layers.Dense(4,activation = 'softmax')\n",
        "                                    ])\n",
        "\n"
      ],
      "metadata": {
        "id": "kTeFKm7AfQXv"
      },
      "execution_count": 4,
      "outputs": []
    },
    {
      "cell_type": "code",
      "source": [
        "model.summary()"
      ],
      "metadata": {
        "colab": {
          "base_uri": "https://localhost:8080/"
        },
        "id": "mOhz08y0fQzI",
        "outputId": "4e5379ee-a0f4-4f8a-911e-d70bb43a874b"
      },
      "execution_count": 5,
      "outputs": [
        {
          "output_type": "stream",
          "name": "stdout",
          "text": [
            "Model: \"sequential\"\n",
            "_________________________________________________________________\n",
            " Layer (type)                Output Shape              Param #   \n",
            "=================================================================\n",
            " conv2d (Conv2D)             (None, 126, 126, 16)      448       \n",
            "                                                                 \n",
            " max_pooling2d (MaxPooling2D  (None, 63, 63, 16)       0         \n",
            " )                                                               \n",
            "                                                                 \n",
            " conv2d_1 (Conv2D)           (None, 61, 61, 32)        4640      \n",
            "                                                                 \n",
            " max_pooling2d_1 (MaxPooling  (None, 30, 30, 32)       0         \n",
            " 2D)                                                             \n",
            "                                                                 \n",
            " conv2d_2 (Conv2D)           (None, 28, 28, 64)        18496     \n",
            "                                                                 \n",
            " max_pooling2d_2 (MaxPooling  (None, 14, 14, 64)       0         \n",
            " 2D)                                                             \n",
            "                                                                 \n",
            " conv2d_3 (Conv2D)           (None, 12, 12, 128)       73856     \n",
            "                                                                 \n",
            " max_pooling2d_3 (MaxPooling  (None, 6, 6, 128)        0         \n",
            " 2D)                                                             \n",
            "                                                                 \n",
            " flatten (Flatten)           (None, 4608)              0         \n",
            "                                                                 \n",
            " dense (Dense)               (None, 128)               589952    \n",
            "                                                                 \n",
            " dropout (Dropout)           (None, 128)               0         \n",
            "                                                                 \n",
            " dense_1 (Dense)             (None, 4)                 516       \n",
            "                                                                 \n",
            "=================================================================\n",
            "Total params: 687,908\n",
            "Trainable params: 687,908\n",
            "Non-trainable params: 0\n",
            "_________________________________________________________________\n"
          ]
        }
      ]
    },
    {
      "cell_type": "code",
      "source": [
        "from tensorflow.keras.optimizers import Adam\n",
        "model.compile(loss = 'categorical_crossentropy',optimizer = 'Adam',metrics = ['accuracy'])"
      ],
      "metadata": {
        "id": "uoJrFOQBfRDE"
      },
      "execution_count": 6,
      "outputs": []
    },
    {
      "cell_type": "code",
      "source": [
        "from keras.callbacks import EarlyStopping,ModelCheckpoint,ReduceLROnPlateau\n",
        "import h5py"
      ],
      "metadata": {
        "id": "y5KhqAw9fRU0"
      },
      "execution_count": 7,
      "outputs": []
    },
    {
      "cell_type": "code",
      "source": [
        "erl_stop = EarlyStopping(monitor = 'val_loss',patience = 3,restore_best_weights=True)\n",
        "mod_chk = ModelCheckpoint(filepath='/content/drive/MyDrive/Multiple Fish Classification 2022/my_model.hdf5',monitor = 'val_loss',save_best_only = True)\n",
        "lr_rate = ReduceLROnPlateau(monitor = 'val_loss',patience = 2,factor = 0.1)"
      ],
      "metadata": {
        "id": "OcSiUqC3fRhU"
      },
      "execution_count": 8,
      "outputs": []
    },
    {
      "cell_type": "code",
      "source": [
        "hist = model.fit_generator(train_fed, shuffle = True, epochs=5, validation_data=test_fed,\n",
        "                           callbacks = [erl_stop,mod_chk,lr_rate],verbose = 2\n",
        "                           )"
      ],
      "metadata": {
        "colab": {
          "base_uri": "https://localhost:8080/"
        },
        "id": "PdspLWJMfRxl",
        "outputId": "7d14d236-4bdf-415e-c4ba-1832e4ebbef9"
      },
      "execution_count": 9,
      "outputs": [
        {
          "output_type": "stream",
          "name": "stderr",
          "text": [
            "/usr/local/lib/python3.7/dist-packages/ipykernel_launcher.py:2: UserWarning: `Model.fit_generator` is deprecated and will be removed in a future version. Please use `Model.fit`, which supports generators.\n",
            "  \n",
            "/usr/local/lib/python3.7/dist-packages/keras/preprocessing/image.py:1663: UserWarning: This ImageDataGenerator specifies `featurewise_center`, but it hasn't been fit on any training data. Fit it first by calling `.fit(numpy_data)`.\n",
            "  warnings.warn('This ImageDataGenerator specifies '\n"
          ]
        },
        {
          "output_type": "stream",
          "name": "stdout",
          "text": [
            "Epoch 1/5\n",
            "25/25 - 584s - loss: 5.6999 - accuracy: 0.3450 - val_loss: 0.9308 - val_accuracy: 0.5625 - lr: 0.0010 - 584s/epoch - 23s/step\n",
            "Epoch 2/5\n",
            "25/25 - 22s - loss: 0.9847 - accuracy: 0.5425 - val_loss: 0.8185 - val_accuracy: 0.6525 - lr: 0.0010 - 22s/epoch - 899ms/step\n",
            "Epoch 3/5\n",
            "25/25 - 22s - loss: 0.8401 - accuracy: 0.6250 - val_loss: 0.5634 - val_accuracy: 0.7925 - lr: 0.0010 - 22s/epoch - 892ms/step\n",
            "Epoch 4/5\n",
            "25/25 - 22s - loss: 0.6851 - accuracy: 0.7050 - val_loss: 0.4137 - val_accuracy: 0.8175 - lr: 0.0010 - 22s/epoch - 888ms/step\n",
            "Epoch 5/5\n",
            "25/25 - 22s - loss: 0.5763 - accuracy: 0.7675 - val_loss: 0.3945 - val_accuracy: 0.8750 - lr: 0.0010 - 22s/epoch - 890ms/step\n"
          ]
        }
      ]
    },
    {
      "cell_type": "code",
      "source": [
        "plt.plot(hist.history['loss'],color = 'blue',label = 'train')\n",
        "plt.plot(hist.history['val_loss'],color = 'orange',label = 'train')\n",
        "plt.grid(True)\n",
        "plt.title(\"Train & Test loss with epochs\\n\",fontsize = 16)\n",
        "plt.xlabel(\"Training Epochs\",fontsize= 12)\n",
        "plt.ylabel(\"Train & Test loss\",fontsize =12)\n",
        "plt.show()"
      ],
      "metadata": {
        "colab": {
          "base_uri": "https://localhost:8080/",
          "height": 318
        },
        "id": "GD8Bki8zqcDF",
        "outputId": "b780753f-4839-4930-d9c3-7db1cc39bd30"
      },
      "execution_count": 10,
      "outputs": [
        {
          "output_type": "display_data",
          "data": {
            "text/plain": [
              "<Figure size 432x288 with 1 Axes>"
            ],
            "image/png": "[encoded data removed]"
          },
          "metadata": {
            "needs_background": "light"
          }
        }
      ]
    },
    {
      "cell_type": "code",
      "source": [
        "plt.plot(hist.history['accuracy'],color = 'blue',label = 'train')\n",
        "plt.plot(hist.history['val_accuracy'],color = 'orange',label = 'train')\n",
        "plt.grid(True)\n",
        "plt.title(\"Train & Test accuracy with epochs\\n\",fontsize = 16)\n",
        "plt.xlabel(\"Training Epochs\",fontsize= 12)\n",
        "plt.ylabel(\"Train & Test accuracy\",fontsize =12)\n",
        "plt.show()"
      ],
      "metadata": {
        "colab": {
          "base_uri": "https://localhost:8080/",
          "height": 318
        },
        "id": "UjZlaDE-qb_G",
        "outputId": "f86fa010-0e28-499c-9876-ef0e16afd4ee"
      },
      "execution_count": 11,
      "outputs": [
        {
          "output_type": "display_data",
          "data": {
            "text/plain": [
              "<Figure size 432x288 with 1 Axes>"
            ],
            "image/png": "[encoded data removed]"
          },
          "metadata": {
            "needs_background": "light"
          }
        }
      ]
    },
    {
      "cell_type": "code",
      "source": [
        "acc = model.evaluate(test_fed,steps = len(test_fed),verbose = 2)\n",
        "print('%.2f'%(acc[1]*100))"
      ],
      "metadata": {
        "colab": {
          "base_uri": "https://localhost:8080/"
        },
        "id": "juolxe0xqb6a",
        "outputId": "7ed93685-c7c9-4c13-9ade-538c94de086b"
      },
      "execution_count": 12,
      "outputs": [
        {
          "output_type": "stream",
          "name": "stdout",
          "text": [
            "13/13 - 5s - loss: 0.3945 - accuracy: 0.8750 - 5s/epoch - 383ms/step\n",
            "87.50\n"
          ]
        }
      ]
    },
    {
      "cell_type": "code",
      "source": [],
      "metadata": {
        "id": "AmJbuGhQqbam"
      },
      "execution_count": null,
      "outputs": []
    }
  ]
}